{
  "nbformat": 4,
  "nbformat_minor": 0,
  "metadata": {
    "colab": {
      "provenance": []
    },
    "kernelspec": {
      "name": "python3",
      "display_name": "Python 3"
    },
    "language_info": {
      "name": "python"
    }
  },
  "cells": [
    {
      "cell_type": "markdown",
      "source": [
        "# Data Science Tools and Ecosystem"
      ],
      "metadata": {
        "id": "Npu3cEVk_Eow"
      }
    },
    {
      "cell_type": "markdown",
      "source": [
        "In this notebook, Data Science Tools and Ecosystem are summarized."
      ],
      "metadata": {
        "id": "14Y5ZGqo_iOT"
      }
    },
    {
      "cell_type": "markdown",
      "source": [
        "Objectives:\n",
        "- List popular languages for Data Science\n",
        "- List popular tools for Data Science\n",
        "- List popular libraries for Data Science"
      ],
      "metadata": {
        "id": "aDl9VilXElAF"
      }
    },
    {
      "cell_type": "markdown",
      "source": [
        "Some of the popular languages that Data Scientists use are:\n",
        "1. Python\n",
        "2. R\n",
        "3. Scala\n",
        "4. SQL"
      ],
      "metadata": {
        "id": "ZM45jxYoA0xP"
      }
    },
    {
      "cell_type": "markdown",
      "source": [
        "Some of the commonly used libraries used by Data Scientists include:\n",
        "1. Pandas\n",
        "2. Tensorflow\n",
        "3. Pytorch"
      ],
      "metadata": {
        "id": "lgwV06YkA-Ko"
      }
    },
    {
      "cell_type": "markdown",
      "source": [
        "| Data Science Tools |\n",
        "| ------------------ |\n",
        "| Colab |\n",
        "|Jyputer Notebook |\n",
        "|R Studio|\n"
      ],
      "metadata": {
        "id": "JFcUnQQGBnRF"
      }
    },
    {
      "cell_type": "markdown",
      "source": [
        "### Below are a few examples of evaluating arithmetic expressions in Python"
      ],
      "metadata": {
        "id": "Zhw-tOYvDcZZ"
      }
    },
    {
      "cell_type": "code",
      "source": [
        "# This a simple arithmetic expression to mutiply then add integers\n",
        "(3*4)+5"
      ],
      "metadata": {
        "colab": {
          "base_uri": "https://localhost:8080/"
        },
        "id": "y9PPweHq_IKV",
        "outputId": "4991c5d5-da31-43d4-9113-83c6ee57bfda"
      },
      "execution_count": 2,
      "outputs": [
        {
          "output_type": "execute_result",
          "data": {
            "text/plain": [
              "17"
            ]
          },
          "metadata": {},
          "execution_count": 2
        }
      ]
    },
    {
      "cell_type": "code",
      "source": [
        "# This will convert 200 minutes to hours by diving by 60\n",
        "200 / 60"
      ],
      "metadata": {
        "colab": {
          "base_uri": "https://localhost:8080/"
        },
        "id": "hQlvS6L_DreX",
        "outputId": "3ac5fe78-7c06-4ec7-cc0c-f2522dcb2e11"
      },
      "execution_count": 4,
      "outputs": [
        {
          "output_type": "execute_result",
          "data": {
            "text/plain": [
              "3.3333333333333335"
            ]
          },
          "metadata": {},
          "execution_count": 4
        }
      ]
    },
    {
      "cell_type": "markdown",
      "source": [
        "## Author\n",
        "  Charishma "
      ],
      "metadata": {
        "id": "FX50PkUfFKoI"
      }
    },
    {
      "cell_type": "code",
      "source": [],
      "metadata": {
        "id": "KCOEaj20D-n_"
      },
      "execution_count": null,
      "outputs": []
    }
  ]
}